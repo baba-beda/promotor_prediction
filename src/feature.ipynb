{
 "cells": [
  {
   "cell_type": "code",
   "execution_count": 1,
   "metadata": {},
   "outputs": [
    {
     "data": {
      "application/javascript": [
       "IPython.notebook.set_autosave_interval(15000)"
      ]
     },
     "metadata": {},
     "output_type": "display_data"
    },
    {
     "name": "stdout",
     "output_type": "stream",
     "text": [
      "Autosaving every 15 seconds\n"
     ]
    }
   ],
   "source": [
    "# includes\n",
    "# %matplotlib inline\n",
    "% autosave 15\n",
    "\n",
    "import matplotlib.pyplot as plt\n",
    "#import seaborn as sns\n",
    "import numpy as np\n",
    "import pandas as pd\n",
    "from Bio import SeqIO\n",
    "from matplotlib import cm"
   ]
  },
  {
   "cell_type": "code",
   "execution_count": 2,
   "metadata": {
    "collapsed": true
   },
   "outputs": [],
   "source": [
    "def process_input_file(filename):\n",
    "    raw_data = []\n",
    "    with open('../data/clean/' + filename) as input_file:\n",
    "        for line in input_file:\n",
    "            tokenized = line.strip().split(',')\n",
    "            raw_data.append(tokenized)\n",
    "    return raw_data\n",
    "\n",
    "def flatten(data_list):\n",
    "    return [item for sublist in data_list for item in sublist]"
   ]
  },
  {
   "cell_type": "code",
   "execution_count": 3,
   "metadata": {},
   "outputs": [],
   "source": [
    "feature_names = ['CAs', 'CGs', 'SNPs', 'COVs', 'MAFs', 'meth', 'TATAs', 'TFBSinf', 'TFBSs']\n",
    "\n",
    "gene_names = flatten(process_input_file('names'))\n",
    "features_raw = {}\n",
    "for name in feature_names:\n",
    "    features_raw[name] = process_input_file(name)"
   ]
  },
  {
   "cell_type": "code",
   "execution_count": 21,
   "metadata": {
    "collapsed": true
   },
   "outputs": [],
   "source": [
    "def fasta_plot(filename, destdir, mark_min = False, mark_max = False):\n",
    "    #raw_data = SeqIO.parse(open('../data/raw/' + filename + '.s.fasta'), 'fasta')\n",
    "    print(filename)\n",
    "    #raw_data = process_input_file(filename)\n",
    "    raw_data = features_raw[filename]\n",
    "    genes_processed = 0\n",
    "    for i in xrange(len(raw_data)):\n",
    "        if genes_processed == 10: \n",
    "            break\n",
    "        data_vec = raw_data[i]\n",
    "        name = gene_names[i]\n",
    "        feature_vec = np.array(map(float, data_vec))\n",
    "        plt.figure(figsize=(50,30))\n",
    "        minval, maxval = min(feature_vec), max(feature_vec)\n",
    "        if not minval == maxval:\n",
    "            plt.ylim(ymin=minval, ymax=maxval + 0.1*maxval)\n",
    "        plt.xlabel(str(name), fontsize=60)\n",
    "        plt.ylabel(filename, fontsize=60)\n",
    "        plt.tick_params(axis='both', which='major', labelsize=30)\n",
    "        plt.tick_params(axis='both', which='minor', labelsize=20)\n",
    "        plt.plot(np.arange(-1000, 1000), feature_vec, marker='o', linewidth=3, alpha=0.5, color='grey')\n",
    "        plt.scatter(np.arange(-1000, 1000), feature_vec, s=100, c=feature_vec, marker='o', cmap=cm.jet)\n",
    "        plt.savefig('../images/' + destdir + '/' + str(genes_processed) +'.png')\n",
    "        plt.close()\n",
    "        genes_processed += 1"
   ]
  },
  {
   "cell_type": "code",
   "execution_count": 23,
   "metadata": {},
   "outputs": [],
   "source": [
    "def fasta_integrated_plot(gene_pos):\n",
    "    name = gene_names[gene_pos]\n",
    "    colors = ['red', 'orange', 'yellow', 'green', 'cyan', 'blue', 'red', 'yellow', 'magenta']\n",
    "    plt.figure(figsize=(50, 30))\n",
    "    plt.xlabel(name, fontsize=60)\n",
    "    plt.ylabel('Value', fontsize=60)\n",
    "    plt.tick_params(axis='both', which='major', labelsize=30)\n",
    "    plt.tick_params(axis='both', which='minor', labelsize=20)\n",
    "    for i in range(len(colors)):\n",
    "        raw_data = np.array(map(float, features_raw[feature_names[i]][gene_pos]))\n",
    "        normalized = [(val - min(raw_data))/(max(raw_data) - min(raw_data)) for val in raw_data]\n",
    "        plt.plot(np.arange(-1000, 1000), normalized, marker='o', linewidth=3, alpha=0.5, color=colors[i])\n",
    "    plt.savefig('test.png')\n",
    "    plt.close()"
   ]
  },
  {
   "cell_type": "code",
   "execution_count": 25,
   "metadata": {},
   "outputs": [
    {
     "name": "stdout",
     "output_type": "stream",
     "text": [
      "CAs\n",
      "CGs\n",
      "SNPs\n",
      "COVs\n",
      "MAFs\n",
      "meth\n",
      "TATAs\n",
      "TFBSinf\n",
      "TFBSs\n"
     ]
    }
   ],
   "source": [
    "fasta_plot('CAs', '1_CA')\n",
    "fasta_plot('CGs', '2_CG')\n",
    "fasta_plot('SNPs', '3_SNP_CNT')\n",
    "fasta_plot('COVs', '4_COV')\n",
    "fasta_plot('MAFs', '5_MAF')\n",
    "fasta_plot('meth', '6_METHYL')\n",
    "fasta_plot('TATAs', '7_TATA')\n",
    "fasta_plot('TFBSinf', '8_TFBS_INF')\n",
    "fasta_plot('TFBSs', '9_TFBS')"
   ]
  },
  {
   "cell_type": "code",
   "execution_count": 24,
   "metadata": {},
   "outputs": [],
   "source": [
    "fasta_integrated_plot(0)"
   ]
  }
 ],
 "metadata": {
  "kernelspec": {
   "display_name": "Python 2",
   "language": "python",
   "name": "python2"
  },
  "language_info": {
   "codemirror_mode": {
    "name": "ipython",
    "version": 2
   },
   "file_extension": ".py",
   "mimetype": "text/x-python",
   "name": "python",
   "nbconvert_exporter": "python",
   "pygments_lexer": "ipython2",
   "version": "2.7.6"
  }
 },
 "nbformat": 4,
 "nbformat_minor": 2
}
