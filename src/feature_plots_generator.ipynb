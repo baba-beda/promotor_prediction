{
 "cells": [
  {
   "cell_type": "code",
   "execution_count": 3,
   "metadata": {},
   "outputs": [
    {
     "data": {
      "application/javascript": [
       "IPython.notebook.set_autosave_interval(15000)"
      ]
     },
     "metadata": {},
     "output_type": "display_data"
    },
    {
     "name": "stdout",
     "output_type": "stream",
     "text": [
      "Autosaving every 15 seconds\n"
     ]
    }
   ],
   "source": [
    "# includes\n",
    "# %matplotlib inline\n",
    "% autosave 15\n",
    "\n",
    "import matplotlib.pyplot as plt\n",
    "#import seaborn as sns\n",
    "import numpy as np\n",
    "import pandas as pd\n",
    "from Bio import SeqIO\n",
    "from matplotlib import cm"
   ]
  },
  {
   "cell_type": "code",
   "execution_count": 4,
   "metadata": {
    "collapsed": true
   },
   "outputs": [],
   "source": [
    "def process_input_file(filename):\n",
    "    raw_data = []\n",
    "    with open('../data/clean/' + filename) as input_file:\n",
    "        for line in input_file:\n",
    "            tokenized = line.strip().split(',')\n",
    "            raw_data.append(tokenized)\n",
    "    return raw_data\n",
    "\n",
    "def flatten(data_list):\n",
    "    return [item for sublist in data_list for item in sublist]"
   ]
  },
  {
   "cell_type": "code",
   "execution_count": 5,
   "metadata": {
    "collapsed": true
   },
   "outputs": [],
   "source": [
    "feature_names = ['CAs', 'CGs', 'SNPs', 'COVs', 'MAFs', 'meth', 'TATAs', 'TFBSinf', 'TFBSs']\n",
    "\n",
    "gene_names = flatten(process_input_file('names'))\n",
    "features_raw = {}\n",
    "for name in feature_names:\n",
    "    features_raw[name] = process_input_file(name)"
   ]
  },
  {
   "cell_type": "code",
   "execution_count": 70,
   "metadata": {},
   "outputs": [],
   "source": [
    "def plot_feature_vec(fname, destdir, feature_vec, imgname):\n",
    "    plt.figure(figsize=(50,30))\n",
    "    minval, maxval = min(feature_vec), max(feature_vec)\n",
    "    if not minval == maxval:\n",
    "        plt.ylim(ymin=minval, ymax=maxval + 0.1*maxval)\n",
    "    plt.xlabel(str(name), fontsize=60)\n",
    "    plt.ylabel(fname, fontsize=60)\n",
    "    plt.tick_params(axis='both', which='major', labelsize=30)\n",
    "    plt.tick_params(axis='both', which='minor', labelsize=20)\n",
    "    plt.plot(np.arange(-1000, 1000), feature_vec, marker='o', linewidth=3, alpha=0.5, color='grey')\n",
    "    plt.scatter(np.arange(-1000, 1000), feature_vec, s=100, c=feature_vec, marker='o', cmap=cm.jet)\n",
    "    plt.savefig('../images/' + destdir + '/' + imgname +'.png')\n",
    "    plt.close()\n",
    "\n",
    "def fasta_plot(fname, destdir, sample_size=10):\n",
    "    #raw_data = SeqIO.parse(open('../data/raw/' + filename + '.s.fasta'), 'fasta')\n",
    "    print(fname)\n",
    "    #raw_data = process_input_file(filename)\n",
    "    raw_data = features_raw[fname]\n",
    "    genes_processed = 0\n",
    "    for i in xrange(len(raw_data)):\n",
    "        if genes_processed == sample_size: \n",
    "            break\n",
    "        data_vec = raw_data[i]\n",
    "        name = gene_names[i]\n",
    "        feature_vec = np.array(map(float, data_vec))\n",
    "        plot_feature_vec(fname, destdir, feature_vec, str(genes_processed))\n",
    "        genes_processed += 1\n",
    "        \n",
    "def averaged_fasta_plot(fname, destdir, sample_size=10):\n",
    "    #raw_data = SeqIO.parse(open('../data/raw/' + filename + '.s.fasta'), 'fasta')\n",
    "    print(fname)\n",
    "    avg_vec = [0 for i in xrange(len(features_raw[fname][0]))]\n",
    "    #raw_data = process_input_file(filename)\n",
    "    raw_data = features_raw[fname]\n",
    "    genes_processed = 0\n",
    "    for i in xrange(len(raw_data)):\n",
    "        if genes_processed == sample_size: \n",
    "            break\n",
    "        data_vec = raw_data[i]\n",
    "        name = gene_names[i]\n",
    "        feature_vec = np.array(map(float, data_vec))\n",
    "        avg_vec += feature_vec\n",
    "        genes_processed += 1\n",
    "        \n",
    "    avg_vec /= float(sample_size)\n",
    "    if fname == 'CGs':\n",
    "        y = avg_vec\n",
    "        p_approx = np.poly1d(np.polyfit(np.arange(-1000, 1000), y, 50))\n",
    "        x = np.linspace(-1000, 1000, 30000)\n",
    "        avg_vec = p_approx(x)\n",
    "                           \n",
    "        plt.figure(figsize=(20,10))\n",
    "        minval, maxval = min(avg_vec), max(avg_vec)\n",
    "        if not minval == maxval:\n",
    "            plt.ylim(ymin=minval, ymax=maxval + 0.1*maxval)\n",
    "        plt.xlabel(str(name), fontsize=30)\n",
    "        plt.ylabel('CG-skew', fontsize=30)\n",
    "        plt.tick_params(axis='both', which='major', labelsize=30)\n",
    "        plt.tick_params(axis='both', which='minor', labelsize=20)\n",
    "        plt.plot(x, avg_vec, linewidth=2, alpha=0.5)\n",
    "        #plt.scatter(x, avg_vec, s=10, c=avg_vec, marker='o', cmap=cm.jet)\n",
    "        plt.savefig('../images/' + destdir + '/averaged_fitted.png')\n",
    "        plt.close()\n",
    "    else:\n",
    "        plot_feature_vec(fname, destdir, avg_vec, 'averaged')"
   ]
  },
  {
   "cell_type": "code",
   "execution_count": 8,
   "metadata": {},
   "outputs": [
    {
     "name": "stdout",
     "output_type": "stream",
     "text": [
      "CAs\n",
      "CGs\n",
      "SNPs\n",
      "COVs\n",
      "MAFs\n",
      "meth\n",
      "TATAs\n",
      "TFBSinf\n",
      "TFBSs\n"
     ]
    }
   ],
   "source": [
    "folder_names = ['1_CA', '2_CG', '3_SNP_CNT', '4_COV', '5_MAF', '6_METHYL', '7_TATA', '8_TFBS_INF', '9_TFBS']\n",
    "\n",
    "for i in xrange(len(feature_names)):\n",
    "    fasta_plot(feature_names[i], folder_names[i])"
   ]
  },
  {
   "cell_type": "code",
   "execution_count": 9,
   "metadata": {
    "collapsed": true
   },
   "outputs": [],
   "source": [
    "fasta_integrated_plot(0)"
   ]
  },
  {
   "cell_type": "code",
   "execution_count": 71,
   "metadata": {},
   "outputs": [
    {
     "name": "stdout",
     "output_type": "stream",
     "text": [
      "CGs\n"
     ]
    },
    {
     "name": "stderr",
     "output_type": "stream",
     "text": [
      "/usr/lib/python2.7/dist-packages/numpy/lib/polynomial.py:587: RankWarning: Polyfit may be poorly conditioned\n",
      "  warnings.warn(msg, RankWarning)\n"
     ]
    }
   ],
   "source": [
    "# for i in xrange(len(feature_names)):\n",
    "#     averaged_fasta_plot(feature_names[i], folder_names[i])\n",
    "averaged_fasta_plot(feature_names[1], folder_names[1])"
   ]
  }
 ],
 "metadata": {
  "kernelspec": {
   "display_name": "Python 2",
   "language": "python",
   "name": "python2"
  },
  "language_info": {
   "codemirror_mode": {
    "name": "ipython",
    "version": 2
   },
   "file_extension": ".py",
   "mimetype": "text/x-python",
   "name": "python",
   "nbconvert_exporter": "python",
   "pygments_lexer": "ipython2",
   "version": "2.7.6"
  }
 },
 "nbformat": 4,
 "nbformat_minor": 2
}
